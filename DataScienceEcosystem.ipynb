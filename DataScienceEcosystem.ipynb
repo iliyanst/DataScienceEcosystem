{
 "cells": [
  {
   "cell_type": "markdown",
   "id": "a98d9f19",
   "metadata": {},
   "source": [
    "# Data Science Tools and Ecosystem"
   ]
  },
  {
   "cell_type": "markdown",
   "id": "36472a42",
   "metadata": {},
   "source": [
    "In this notebook, Data Science Tools and Ecosystem are summarized."
   ]
  },
  {
   "cell_type": "markdown",
   "id": "a0b71e56",
   "metadata": {},
   "source": [
    "**Objectives:**\n",
    "- List popular languages for Data Science\n",
    "- List popular libraries for Data Science\n",
    "- List popular Data Science tools\n",
    "- Example of a simple arithmetic expression\n",
    "- Example of converting minutes to hours"
   ]
  },
  {
   "cell_type": "markdown",
   "id": "4142fab9",
   "metadata": {},
   "source": [
    "Some of the popular languages that Data Scientists use are:\n",
    "\n",
    "1. Python\n",
    "2. R\n",
    "3. Julia\n",
    "4. Scala\n",
    "5. JavaScript"
   ]
  },
  {
   "cell_type": "markdown",
   "id": "f3bbdfaa",
   "metadata": {},
   "source": [
    "Some of the commonly used libraries used by Data Scientists include:\n",
    "\n",
    "1. TensorFlow\n",
    "2. NumPy\n",
    "3. Pandas\n",
    "4. Matplotlib"
   ]
  },
  {
   "cell_type": "markdown",
   "id": "03bf4d2e",
   "metadata": {},
   "source": [
    "| Data Science Tools | \n",
    "| ------ |\n",
    "| JupyterLab Notebook & Jupyter Notebook |\n",
    "| Visual Studio |\n",
    "| Google Colaboratory |"
   ]
  },
  {
   "cell_type": "markdown",
   "id": "f7076049",
   "metadata": {},
   "source": [
    "### Below are a few examples of evaluating arithmetic expressions in Python"
   ]
  },
  {
   "cell_type": "code",
   "execution_count": 13,
   "id": "8812168a",
   "metadata": {},
   "outputs": [
    {
     "data": {
      "text/plain": [
       "17"
      ]
     },
     "execution_count": 13,
     "metadata": {},
     "output_type": "execute_result"
    }
   ],
   "source": [
    "# This a simple arithmetic expression to mutiply then add integers\n",
    "(3*4)+5"
   ]
  },
  {
   "cell_type": "code",
   "execution_count": 15,
   "id": "3bfbffe0",
   "metadata": {},
   "outputs": [
    {
     "data": {
      "text/plain": [
       "3.3333333333333335"
      ]
     },
     "execution_count": 15,
     "metadata": {},
     "output_type": "execute_result"
    }
   ],
   "source": [
    "# This will convert 200 minutes to hours by diving by 60\n",
    "200/60"
   ]
  },
  {
   "cell_type": "markdown",
   "id": "80fa283c",
   "metadata": {},
   "source": [
    "## Author\n",
    "Iliyan Staykov"
   ]
  }
 ],
 "metadata": {
  "kernelspec": {
   "display_name": "Python 3 (ipykernel)",
   "language": "python",
   "name": "python3"
  },
  "language_info": {
   "codemirror_mode": {
    "name": "ipython",
    "version": 3
   },
   "file_extension": ".py",
   "mimetype": "text/x-python",
   "name": "python",
   "nbconvert_exporter": "python",
   "pygments_lexer": "ipython3",
   "version": "3.9.13"
  }
 },
 "nbformat": 4,
 "nbformat_minor": 5
}
